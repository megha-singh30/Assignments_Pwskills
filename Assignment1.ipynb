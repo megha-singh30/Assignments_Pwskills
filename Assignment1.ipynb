{
 "cells": [
  {
   "cell_type": "markdown",
   "id": "09df80b8-c050-4863-a521-715d92ff6c4e",
   "metadata": {},
   "source": [
    "ASSIGNMENTS"
   ]
  },
  {
   "cell_type": "markdown",
   "id": "88683f5a-4931-44b9-b4e6-31b1ade2d89e",
   "metadata": {},
   "source": [
    "Ques. 1"
   ]
  },
  {
   "cell_type": "markdown",
   "id": "782e8b30-187e-4266-81a5-d9d1757cbb2f",
   "metadata": {},
   "source": [
    "1. Tuple is a collection of integers, list, strings. Tuple is immutable "
   ]
  },
  {
   "cell_type": "markdown",
   "id": "3cef6d0d-55e8-42ca-a37b-c6a7b22dcc0c",
   "metadata": {},
   "source": [
    "Ques. 2"
   ]
  },
  {
   "cell_type": "markdown",
   "id": "660afe46-ef5a-4585-8977-e8211793a5da",
   "metadata": {},
   "source": [
    "2. As Tuple is immutable, none of the functions which anyway changes the values in the tuple. Thus, we can only see the information about the values in the Tuple such as their count and index."
   ]
  },
  {
   "cell_type": "markdown",
   "id": "c47053a1-db36-4601-a3f0-d9cf8c2bca54",
   "metadata": {},
   "source": [
    "Ques. 3"
   ]
  },
  {
   "cell_type": "markdown",
   "id": "d8b02386-f3ad-4950-a6e4-4acbe17bc1a9",
   "metadata": {},
   "source": [
    "3. Set keeps only unique items in its values."
   ]
  },
  {
   "cell_type": "code",
   "execution_count": 2,
   "id": "fa6fba0b-6af0-42a3-8bea-642abfec6ca8",
   "metadata": {},
   "outputs": [],
   "source": [
    "List = [1, 1, 1, 2, 1, 3, 1, 4, 2, 1, 2, 2, 2, 3, 2, 4, 3, 1, 3, 2, 3, 3, 3, 4, 4, 1, 4, 2, 4, 3, 4, 4]"
   ]
  },
  {
   "cell_type": "code",
   "execution_count": 15,
   "id": "87f65dcd-4a23-466e-a747-d64d3d2a1bf2",
   "metadata": {},
   "outputs": [
    {
     "name": "stdout",
     "output_type": "stream",
     "text": [
      "{1, 2, 3, 4}\n"
     ]
    }
   ],
   "source": [
    "S = set(List)\n",
    "print(S)"
   ]
  },
  {
   "cell_type": "markdown",
   "id": "5b2df3d6-d146-45b8-88ba-2b80ae8dfaa2",
   "metadata": {},
   "source": [
    "Ques. 4"
   ]
  },
  {
   "cell_type": "code",
   "execution_count": 16,
   "id": "37f2e33b-10d5-4d4c-a28a-49502de0e63e",
   "metadata": {},
   "outputs": [],
   "source": [
    "S1 = {\"any\",\"set\", 44, 65}"
   ]
  },
  {
   "cell_type": "code",
   "execution_count": 17,
   "id": "af3371cc-9eff-483c-97b4-16023b8094b3",
   "metadata": {},
   "outputs": [
    {
     "data": {
      "text/plain": [
       "{1, 2, 3, 4, 44, 65, 'any', 'set'}"
      ]
     },
     "execution_count": 17,
     "metadata": {},
     "output_type": "execute_result"
    }
   ],
   "source": [
    "S.union(S1) # it doesnt assign the union to the original set S"
   ]
  },
  {
   "cell_type": "code",
   "execution_count": 18,
   "id": "f0994ffd-eb0d-40fd-9f07-bea2fca69d11",
   "metadata": {},
   "outputs": [
    {
     "data": {
      "text/plain": [
       "{1, 2, 3, 4}"
      ]
     },
     "execution_count": 18,
     "metadata": {},
     "output_type": "execute_result"
    }
   ],
   "source": [
    "S # as here S remains the same only and is not updated by the union of S1"
   ]
  },
  {
   "cell_type": "code",
   "execution_count": 13,
   "id": "73d37708-a5f9-45d1-b6cb-a74e01574807",
   "metadata": {},
   "outputs": [],
   "source": [
    "S.update(S1) # it updates the Set S itself by keeping the union of itself and other set"
   ]
  },
  {
   "cell_type": "code",
   "execution_count": 14,
   "id": "12381cd4-704f-4a40-968a-1c7c17a186c5",
   "metadata": {},
   "outputs": [
    {
     "data": {
      "text/plain": [
       "{1, 2, 3, 4, 44, 65, 'any', 'set'}"
      ]
     },
     "execution_count": 14,
     "metadata": {},
     "output_type": "execute_result"
    }
   ],
   "source": [
    "S"
   ]
  },
  {
   "cell_type": "markdown",
   "id": "a841e89b-de15-43ac-8325-99fcf09538ea",
   "metadata": {},
   "source": [
    "Ques. 5"
   ]
  },
  {
   "cell_type": "markdown",
   "id": "1e147998-1fde-49fe-b6ed-f7d342837acf",
   "metadata": {},
   "source": [
    "5. Dictionary is a ordered set of key-value pairs of types int, list, string"
   ]
  },
  {
   "cell_type": "code",
   "execution_count": 19,
   "id": "d18a5c92-ea12-4897-8178-c94c5beffa8a",
   "metadata": {},
   "outputs": [],
   "source": [
    "dict = {\"Hotel Names\": ['Le Meridian',\"Haeblis\",\"Taj\",\"Radisson\"], \"Place\":'Chennai',\"Date\":'Jan'}"
   ]
  },
  {
   "cell_type": "code",
   "execution_count": 20,
   "id": "7db660da-43d9-4399-b98c-a5d896cc4b8c",
   "metadata": {},
   "outputs": [
    {
     "data": {
      "text/plain": [
       "{'Hotel Names': ['Le Meridian', 'Haeblis', 'Taj', 'Radisson'],\n",
       " 'Place': 'Chennai',\n",
       " 'Date': 'Jan'}"
      ]
     },
     "execution_count": 20,
     "metadata": {},
     "output_type": "execute_result"
    }
   ],
   "source": [
    "dict"
   ]
  },
  {
   "cell_type": "markdown",
   "id": "3ed9cf9f-de5c-49ff-acb4-67d8909014ac",
   "metadata": {},
   "source": [
    "Ques. 6"
   ]
  },
  {
   "cell_type": "markdown",
   "id": "109b7182-f0d4-4778-97ab-3c8c6c19f9e4",
   "metadata": {},
   "source": [
    "Yes, we can create nested dictionary"
   ]
  },
  {
   "cell_type": "code",
   "execution_count": 22,
   "id": "93cabfbf-75a5-4412-b316-e59e42dbd761",
   "metadata": {},
   "outputs": [],
   "source": [
    "dict1 = {\"Hotel Names\": ['Le Meridian',\"Haeblis\",\"Taj\",\"Radisson\"], \"Places\":{\"Place1\":\"Delhi\",\"Place2\":\"Chennai\",\"Place3\":\"Bangalore\"},\"Date\":'Jan'}"
   ]
  },
  {
   "cell_type": "code",
   "execution_count": 23,
   "id": "2bbf2da9-5a88-4027-83e0-de32a714224b",
   "metadata": {},
   "outputs": [
    {
     "data": {
      "text/plain": [
       "{'Hotel Names': ['Le Meridian', 'Haeblis', 'Taj', 'Radisson'],\n",
       " 'Places': {'Place1': 'Delhi', 'Place2': 'Chennai', 'Place3': 'Bangalore'},\n",
       " 'Date': 'Jan'}"
      ]
     },
     "execution_count": 23,
     "metadata": {},
     "output_type": "execute_result"
    }
   ],
   "source": [
    "dict1"
   ]
  },
  {
   "cell_type": "code",
   "execution_count": 25,
   "id": "7d666640-2ed0-459b-b155-dce677d3f270",
   "metadata": {},
   "outputs": [
    {
     "data": {
      "text/plain": [
       "{'Place1': 'Delhi', 'Place2': 'Chennai', 'Place3': 'Bangalore'}"
      ]
     },
     "execution_count": 25,
     "metadata": {},
     "output_type": "execute_result"
    }
   ],
   "source": [
    "dict1[\"Places\"]"
   ]
  },
  {
   "cell_type": "code",
   "execution_count": 29,
   "id": "eb2ad6cf-8dfd-40a7-81cc-e6ff625d86bb",
   "metadata": {},
   "outputs": [
    {
     "data": {
      "text/plain": [
       "'Delhi'"
      ]
     },
     "execution_count": 29,
     "metadata": {},
     "output_type": "execute_result"
    }
   ],
   "source": [
    "dict1[\"Places\"][\"Place1\"]"
   ]
  },
  {
   "cell_type": "markdown",
   "id": "c9f099b6-9da4-4675-aa14-06e58aba1db6",
   "metadata": {},
   "source": [
    "Ques. 6"
   ]
  },
  {
   "cell_type": "code",
   "execution_count": 43,
   "id": "6f1547b4-f591-436f-8045-7c274315908f",
   "metadata": {},
   "outputs": [],
   "source": [
    "dict2 = {'language' : 'Python', 'course': 'Data Science Masters'}"
   ]
  },
  {
   "cell_type": "code",
   "execution_count": 44,
   "id": "aa5217db-a7b7-4797-b24c-f240133656d5",
   "metadata": {},
   "outputs": [
    {
     "data": {
      "text/plain": [
       "['Python', 'Machine Learning', 'Deep Learning']"
      ]
     },
     "execution_count": 44,
     "metadata": {},
     "output_type": "execute_result"
    }
   ],
   "source": [
    "dict2.setdefault(\"Topics\",[\"Python\", \"Machine Learning\", \"Deep Learning\"])"
   ]
  },
  {
   "cell_type": "code",
   "execution_count": 45,
   "id": "6c6fbd5c-4114-43b2-8e69-36496ef3af8e",
   "metadata": {},
   "outputs": [
    {
     "data": {
      "text/plain": [
       "{'language': 'Python',\n",
       " 'course': 'Data Science Masters',\n",
       " 'Topics': ['Python', 'Machine Learning', 'Deep Learning']}"
      ]
     },
     "execution_count": 45,
     "metadata": {},
     "output_type": "execute_result"
    }
   ],
   "source": [
    "dict2"
   ]
  },
  {
   "cell_type": "markdown",
   "id": "224ecc42-6ed9-49bd-a436-63a4315004f0",
   "metadata": {},
   "source": [
    "Ques. 7"
   ]
  },
  {
   "cell_type": "code",
   "execution_count": 52,
   "id": "2fb76045-c57d-4d5d-992f-b2788fad3600",
   "metadata": {},
   "outputs": [],
   "source": [
    "dict3 = {'Sport': 'Cricket' , 'Teams': ['India', 'Australia', 'England', 'South Africa', 'Sri Lanka', 'New Zealand']}"
   ]
  },
  {
   "cell_type": "code",
   "execution_count": 53,
   "id": "cde8d830-fba8-467b-8614-1f41e01e1a5e",
   "metadata": {},
   "outputs": [
    {
     "data": {
      "text/plain": [
       "dict_values(['Cricket', ['India', 'Australia', 'England', 'South Africa', 'Sri Lanka', 'New Zealand']])"
      ]
     },
     "execution_count": 53,
     "metadata": {},
     "output_type": "execute_result"
    }
   ],
   "source": [
    "dict3.values()"
   ]
  },
  {
   "cell_type": "code",
   "execution_count": 54,
   "id": "f66e1569-3edd-44dd-bf7e-543473458dc9",
   "metadata": {},
   "outputs": [
    {
     "data": {
      "text/plain": [
       "dict_keys(['Sport', 'Teams'])"
      ]
     },
     "execution_count": 54,
     "metadata": {},
     "output_type": "execute_result"
    }
   ],
   "source": [
    "dict3.keys()"
   ]
  },
  {
   "cell_type": "code",
   "execution_count": 57,
   "id": "f9ef9561-bd22-4ae6-aa17-0807336b5aea",
   "metadata": {},
   "outputs": [
    {
     "data": {
      "text/plain": [
       "dict_items([('Sport', 'Cricket'), ('Teams', ['India', 'Australia', 'England', 'South Africa', 'Sri Lanka', 'New Zealand'])])"
      ]
     },
     "execution_count": 57,
     "metadata": {},
     "output_type": "execute_result"
    }
   ],
   "source": [
    "dict3.items()"
   ]
  },
  {
   "cell_type": "code",
   "execution_count": null,
   "id": "07ebe145-b8c5-42d0-b3ef-51d6eb6b9e0d",
   "metadata": {},
   "outputs": [],
   "source": []
  }
 ],
 "metadata": {
  "kernelspec": {
   "display_name": "Python 3 (ipykernel)",
   "language": "python",
   "name": "python3"
  },
  "language_info": {
   "codemirror_mode": {
    "name": "ipython",
    "version": 3
   },
   "file_extension": ".py",
   "mimetype": "text/x-python",
   "name": "python",
   "nbconvert_exporter": "python",
   "pygments_lexer": "ipython3",
   "version": "3.10.8"
  }
 },
 "nbformat": 4,
 "nbformat_minor": 5
}
